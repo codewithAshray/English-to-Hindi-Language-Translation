{
  "cells": [
    {
      "cell_type": "code",
      "execution_count": 24,
      "metadata": {
        "id": "NxN3SAgJG5Wb"
      },
      "outputs": [],
      "source": [
        "import os\n",
        "import gc\n",
        "import time\n",
        "import re\n",
        "import unicodedata\n",
        "import pandas as pd\n",
        "import numpy as np\n",
        "import matplotlib.pyplot as plt\n",
        "import tensorflow as tf\n",
        "from tensorflow.keras import backend as K\n",
        "from keras.preprocessing.text import Tokenizer\n",
        "from keras.preprocessing.sequence import pad_sequences"
      ]
    },
    {
      "cell_type": "code",
      "execution_count": 25,
      "metadata": {
        "id": "UPBMauL4HUfU"
      },
      "outputs": [],
      "source": [
        "root_folder='.'\n",
        "train_filename='hind.txt'\n",
        "DATA_PATH = os.path.abspath(os.path.join(root_folder))\n",
        "train_filenamepath = os.path.abspath(os.path.join(DATA_PATH, train_filename))\n",
        "train_path = DATA_PATH\n",
        "test_path = DATA_PATH"
      ]
    },
    {
      "cell_type": "code",
      "execution_count": 26,
      "metadata": {
        "id": "vSPiAh_xHuLi"
      },
      "outputs": [],
      "source": [
        "INPUT_COLUMN = 'input'\n",
        "TARGET_COLUMN = 'target'\n",
        "TARGET_FOR_INPUT = 'target_for_input'\n",
        "NUM_SAMPLES = 20000 \n",
        "MAX_VOCAB_SIZE = 20000\n",
        "EMBEDDING_DIM = 128\n",
        "HIDDEN_DIM = 1024 \n",
        "BATCH_SIZE = 8 \n",
        "EPOCHS = 20  \n",
        "ATTENTION_FUNC='general'"
      ]
    },
    {
      "cell_type": "code",
      "execution_count": 27,
      "metadata": {
        "id": "P0fuXyX_HxPX"
      },
      "outputs": [],
      "source": [
        "def unicode_to_ascii(s):\n",
        "    return ''.join(c for c in unicodedata.normalize('NFD', s)\n",
        "        if unicodedata.category(c) != 'Mn')\n",
        "\n",
        "def preprocess_sentence(w):\n",
        "    w = unicode_to_ascii(w.lower().strip())\n",
        "    w = re.sub(r\"([?.!,¿])\", r\" \\1 \", w)\n",
        "    w = re.sub(r'[\" \"]+', \" \", w)\n",
        "    w = w.strip()\n",
        "\n",
        "    return w"
      ]
    },
    {
      "cell_type": "code",
      "execution_count": 28,
      "metadata": {
        "colab": {
          "base_uri": "https://localhost:8080/"
        },
        "id": "CLJRWTigIRfw",
        "outputId": "3e3608eb-b19d-4697-b52e-54182b29787f"
      },
      "outputs": [
        {
          "name": "stdout",
          "output_type": "stream",
          "text": [
            "awesome !\n",
            "बहत बढिया ! <eos>\n",
            "<sos> बहत बढिया !\n"
          ]
        }
      ],
      "source": [
        "df=pd.read_csv(train_filenamepath, sep=\"\\t\", header=None, names=[INPUT_COLUMN,TARGET_COLUMN], usecols=[0,1], nrows=NUM_SAMPLES)\n",
        "input_data=df[INPUT_COLUMN].apply(lambda x : preprocess_sentence(x)).tolist()\n",
        "target_data=df[TARGET_COLUMN].apply(lambda x : preprocess_sentence(x)+ ' <eos>').tolist()\n",
        "target_input_data=df[TARGET_COLUMN].apply(lambda x : '<sos> '+ preprocess_sentence(x)).tolist()\n",
        "\n",
        "print(input_data[15])\n",
        "print(target_data[15])\n",
        "print(target_input_data[15])"
      ]
    },
    {
      "cell_type": "code",
      "execution_count": 29,
      "metadata": {},
      "outputs": [
        {
          "data": {
            "text/html": [
              "<div>\n",
              "<style scoped>\n",
              "    .dataframe tbody tr th:only-of-type {\n",
              "        vertical-align: middle;\n",
              "    }\n",
              "\n",
              "    .dataframe tbody tr th {\n",
              "        vertical-align: top;\n",
              "    }\n",
              "\n",
              "    .dataframe thead th {\n",
              "        text-align: right;\n",
              "    }\n",
              "</style>\n",
              "<table border=\"1\" class=\"dataframe\">\n",
              "  <thead>\n",
              "    <tr style=\"text-align: right;\">\n",
              "      <th></th>\n",
              "      <th>input</th>\n",
              "      <th>target</th>\n",
              "    </tr>\n",
              "  </thead>\n",
              "  <tbody>\n",
              "    <tr>\n",
              "      <th>0</th>\n",
              "      <td>Wow!</td>\n",
              "      <td>वाह!</td>\n",
              "    </tr>\n",
              "    <tr>\n",
              "      <th>1</th>\n",
              "      <td>Duck!</td>\n",
              "      <td>झुको!</td>\n",
              "    </tr>\n",
              "    <tr>\n",
              "      <th>2</th>\n",
              "      <td>Duck!</td>\n",
              "      <td>बतख़!</td>\n",
              "    </tr>\n",
              "    <tr>\n",
              "      <th>3</th>\n",
              "      <td>Help!</td>\n",
              "      <td>बचाओ!</td>\n",
              "    </tr>\n",
              "    <tr>\n",
              "      <th>4</th>\n",
              "      <td>Jump.</td>\n",
              "      <td>उछलो.</td>\n",
              "    </tr>\n",
              "    <tr>\n",
              "      <th>...</th>\n",
              "      <td>...</td>\n",
              "      <td>...</td>\n",
              "    </tr>\n",
              "    <tr>\n",
              "      <th>2944</th>\n",
              "      <td>If you go to that supermarket, you can buy mos...</td>\n",
              "      <td>उस सूपरमार्केट में तुम लगभग कोई भी रोजाने में ...</td>\n",
              "    </tr>\n",
              "    <tr>\n",
              "      <th>2945</th>\n",
              "      <td>The passengers who were injured in the acciden...</td>\n",
              "      <td>जिन यात्रियों को दुर्घटना मे चोट आई थी उन्हे अ...</td>\n",
              "    </tr>\n",
              "    <tr>\n",
              "      <th>2946</th>\n",
              "      <td>Democracy is the worst form of government, exc...</td>\n",
              "      <td>लोकतंत्र सरकार का सबसे घिनौना रूप है, अगर बाकी...</td>\n",
              "    </tr>\n",
              "    <tr>\n",
              "      <th>2947</th>\n",
              "      <td>If my boy had not been killed in the traffic a...</td>\n",
              "      <td>अगर मेरा बेटा ट्रेफ़िक हादसे में नहीं मारा गया...</td>\n",
              "    </tr>\n",
              "    <tr>\n",
              "      <th>2948</th>\n",
              "      <td>When I was a kid, touching bugs didn't bother ...</td>\n",
              "      <td>जब मैं बच्चा था, मुझे कीड़ों को छूने से कोई पर...</td>\n",
              "    </tr>\n",
              "  </tbody>\n",
              "</table>\n",
              "<p>2949 rows × 2 columns</p>\n",
              "</div>"
            ],
            "text/plain": [
              "                                                  input  \\\n",
              "0                                                  Wow!   \n",
              "1                                                 Duck!   \n",
              "2                                                 Duck!   \n",
              "3                                                 Help!   \n",
              "4                                                 Jump.   \n",
              "...                                                 ...   \n",
              "2944  If you go to that supermarket, you can buy mos...   \n",
              "2945  The passengers who were injured in the acciden...   \n",
              "2946  Democracy is the worst form of government, exc...   \n",
              "2947  If my boy had not been killed in the traffic a...   \n",
              "2948  When I was a kid, touching bugs didn't bother ...   \n",
              "\n",
              "                                                 target  \n",
              "0                                                  वाह!  \n",
              "1                                                 झुको!  \n",
              "2                                                 बतख़!  \n",
              "3                                                 बचाओ!  \n",
              "4                                                 उछलो.  \n",
              "...                                                 ...  \n",
              "2944  उस सूपरमार्केट में तुम लगभग कोई भी रोजाने में ...  \n",
              "2945  जिन यात्रियों को दुर्घटना मे चोट आई थी उन्हे अ...  \n",
              "2946  लोकतंत्र सरकार का सबसे घिनौना रूप है, अगर बाकी...  \n",
              "2947  अगर मेरा बेटा ट्रेफ़िक हादसे में नहीं मारा गया...  \n",
              "2948  जब मैं बच्चा था, मुझे कीड़ों को छूने से कोई पर...  \n",
              "\n",
              "[2949 rows x 2 columns]"
            ]
          },
          "execution_count": 29,
          "metadata": {},
          "output_type": "execute_result"
        }
      ],
      "source": [
        "df"
      ]
    },
    {
      "cell_type": "code",
      "execution_count": 30,
      "metadata": {
        "colab": {
          "base_uri": "https://localhost:8080/"
        },
        "id": "5UCS81Q2Jkhz",
        "outputId": "a082105a-5524-4e50-9d35-27ebdfe5d571"
      },
      "outputs": [
        {
          "data": {
            "text/plain": [
              "[[1, 2, 3]]"
            ]
          },
          "execution_count": 30,
          "metadata": {},
          "output_type": "execute_result"
        }
      ],
      "source": [
        "dummy=['I am Raj .']\n",
        "t=Tokenizer()\n",
        "t.fit_on_texts(dummy)\n",
        "t.texts_to_sequences(dummy)"
      ]
    },
    {
      "cell_type": "code",
      "execution_count": 31,
      "metadata": {
        "colab": {
          "base_uri": "https://localhost:8080/"
        },
        "id": "D_ARdGKTI9bR",
        "outputId": "59c605f3-c6c0-41ac-ac4b-1d4ddc2d2e35"
      },
      "outputs": [
        {
          "name": "stdout",
          "output_type": "stream",
          "text": [
            "Max Input Length:  25\n",
            "awesome !\n",
            "[1305, 60]\n"
          ]
        }
      ],
      "source": [
        "tokenizer_inputs = Tokenizer(num_words=MAX_VOCAB_SIZE, filters='')\n",
        "tokenizer_inputs.fit_on_texts(input_data)\n",
        "input_sequences = tokenizer_inputs.texts_to_sequences(input_data)\n",
        "input_max_len = max(len(s) for s in input_sequences)\n",
        "\n",
        "print('Max Input Length: ', input_max_len)\n",
        "print(input_data[15])\n",
        "print(input_sequences[15])"
      ]
    },
    {
      "cell_type": "code",
      "execution_count": 32,
      "metadata": {
        "colab": {
          "base_uri": "https://localhost:8080/"
        },
        "id": "1zc4QD8DKU_S",
        "outputId": "4c3ce4b9-22c3-4b8d-ce5f-92acfc98f925"
      },
      "outputs": [
        {
          "name": "stdout",
          "output_type": "stream",
          "text": [
            "Max Target Length:  28\n",
            "बहत बढिया ! <eos>\n",
            "[16, 1454, 70, 1]\n",
            "<sos> बहत बढिया !\n",
            "[2, 16, 1454, 70]\n"
          ]
        }
      ],
      "source": [
        "tokenizer_outputs = Tokenizer(num_words=MAX_VOCAB_SIZE, filters='')\n",
        "tokenizer_outputs.fit_on_texts(target_data)\n",
        "tokenizer_outputs.fit_on_texts(target_input_data)\n",
        "target_sequences = tokenizer_outputs.texts_to_sequences(target_data)\n",
        "target_sequences_inputs = tokenizer_outputs.texts_to_sequences(target_input_data)\n",
        "target_max_len = max(len(s) for s in target_sequences)\n",
        "\n",
        "print('Max Target Length: ', target_max_len)\n",
        "print(target_data[15])\n",
        "print(target_sequences[15])\n",
        "print(target_input_data[15])\n",
        "print(target_sequences_inputs[15])"
      ]
    },
    {
      "cell_type": "code",
      "execution_count": 33,
      "metadata": {
        "colab": {
          "base_uri": "https://localhost:8080/"
        },
        "id": "JE1VVwXMKp4a",
        "outputId": "1dca3f5d-b57d-40e3-b7db-333aa223963c"
      },
      "outputs": [
        {
          "name": "stdout",
          "output_type": "stream",
          "text": [
            "Found 2444 unique input tokens.\n",
            "Found 2823 unique output tokens.\n"
          ]
        }
      ],
      "source": [
        "word2idx_inputs = tokenizer_inputs.word_index\n",
        "word2idx_outputs = tokenizer_outputs.word_index\n",
        "num_words_output = len(word2idx_outputs) + 1\n",
        "num_words_inputs = len(word2idx_inputs) + 1\n",
        "idx2word_inputs = {v:k for k, v in word2idx_inputs.items()}\n",
        "idx2word_outputs = {v:k for k, v in word2idx_outputs.items()}\n",
        "\n",
        "print('Found %s unique input tokens.' % len(word2idx_inputs))\n",
        "print('Found %s unique output tokens.' % len(word2idx_outputs))"
      ]
    },
    {
      "cell_type": "code",
      "execution_count": 34,
      "metadata": {
        "colab": {
          "base_uri": "https://localhost:8080/"
        },
        "id": "Er_amVJOLO_8",
        "outputId": "1c8e5cb2-1ee9-4fe5-fb45-9edb2779ff21"
      },
      "outputs": [
        {
          "name": "stdout",
          "output_type": "stream",
          "text": [
            "encoder_inputs.shape: (2949, 25)\n",
            "encoder_inputs[0]: [1303   60    0    0    0    0    0    0    0    0    0    0    0    0\n",
            "    0    0    0    0    0    0    0    0    0    0    0]\n",
            "decoder_inputs[0]: [   2 1443   70    0    0    0    0    0    0    0    0    0    0    0\n",
            "    0    0    0    0    0    0    0    0    0    0    0    0    0    0]\n",
            "decoder_inputs.shape: (2949, 28)\n"
          ]
        }
      ],
      "source": [
        "encoder_inputs = pad_sequences(input_sequences, maxlen=input_max_len, padding='post')\n",
        "print(\"encoder_inputs.shape:\", encoder_inputs.shape)\n",
        "print(\"encoder_inputs[0]:\", encoder_inputs[0])\n",
        "decoder_inputs = pad_sequences(target_sequences_inputs, maxlen=target_max_len, padding='post')\n",
        "print(\"decoder_inputs[0]:\", decoder_inputs[0])\n",
        "print(\"decoder_inputs.shape:\", decoder_inputs.shape)\n",
        "decoder_targets = pad_sequences(target_sequences, maxlen=target_max_len, padding='post')"
      ]
    },
    {
      "cell_type": "code",
      "execution_count": 35,
      "metadata": {
        "colab": {
          "base_uri": "https://localhost:8080/"
        },
        "id": "X0YjwUzkLznb",
        "outputId": "a0b99cec-b3e9-40bb-9f90-bd86e3006620"
      },
      "outputs": [
        {
          "data": {
            "text/plain": [
              "True"
            ]
          },
          "execution_count": 35,
          "metadata": {},
          "output_type": "execute_result"
        }
      ],
      "source": [
        "len(input_data)==len(target_data)==len(target_input_data)"
      ]
    },
    {
      "cell_type": "code",
      "execution_count": 36,
      "metadata": {
        "colab": {
          "base_uri": "https://localhost:8080/"
        },
        "id": "ClN7A3KnMEfI",
        "outputId": "a1a99faa-4252-4212-b6f1-3214c322112f"
      },
      "outputs": [
        {
          "name": "stdout",
          "output_type": "stream",
          "text": [
            "(<tf.Tensor: shape=(25,), dtype=int32, numpy=\n",
            "array([1303,   60,    0,    0,    0,    0,    0,    0,    0,    0,    0,\n",
            "          0,    0,    0,    0,    0,    0,    0,    0,    0,    0,    0,\n",
            "          0,    0,    0])>, <tf.Tensor: shape=(28,), dtype=int32, numpy=\n",
            "array([   2, 1443,   70,    0,    0,    0,    0,    0,    0,    0,    0,\n",
            "          0,    0,    0,    0,    0,    0,    0,    0,    0,    0,    0,\n",
            "          0,    0,    0,    0,    0,    0])>, <tf.Tensor: shape=(28,), dtype=int32, numpy=\n",
            "array([1443,   70,    1,    0,    0,    0,    0,    0,    0,    0,    0,\n",
            "          0,    0,    0,    0,    0,    0,    0,    0,    0,    0,    0,\n",
            "          0,    0,    0,    0,    0,    0])>)\n",
            "3\n",
            "<class 'tensorflow.python.framework.ops.EagerTensor'>\n",
            "<class 'tensorflow.python.framework.ops.EagerTensor'>\n",
            "<class 'tensorflow.python.framework.ops.EagerTensor'>\n"
          ]
        }
      ],
      "source": [
        "dataset = tf.data.Dataset.from_tensor_slices((encoder_inputs, decoder_inputs, decoder_targets))\n",
        "for element in dataset:\n",
        "  print(element)\n",
        "  print(len(element))\n",
        "  print(type(element[0]))\n",
        "  print(type(element[1]))\n",
        "  print(type(element[2]))\n",
        "  break"
      ]
    },
    {
      "cell_type": "code",
      "execution_count": 37,
      "metadata": {
        "id": "CPxzPMpILn5T"
      },
      "outputs": [],
      "source": [
        "dataset = dataset.shuffle(len(input_data)).batch(BATCH_SIZE, drop_remainder=True)"
      ]
    },
    {
      "cell_type": "code",
      "execution_count": 38,
      "metadata": {
        "id": "UjQ83-BcRhON"
      },
      "outputs": [],
      "source": [
        "class Encoder(tf.keras.Model):\n",
        "  def __init__(self,vocab_size,embedding_dim,hidden_dim):\n",
        "    super(Encoder, self).__init__()\n",
        "    self.hidden_dim = hidden_dim\n",
        "    self.embedding = tf.keras.layers.Embedding(vocab_size, embedding_dim)\n",
        "    self.lstm=tf.keras.layers.LSTM(hidden_dim,return_sequences=True,return_state=True)\n",
        "\n",
        "  def call(self,input_sequence,states):\n",
        "    embed=self.embedding(input_sequence) \n",
        "    output, state_h, state_c = self.lstm(embed, initial_state=states)\n",
        "    return output, state_h, state_c\n",
        "\n",
        "  def init_states(self, batch_size):\n",
        "    return (tf.zeros([batch_size, self.hidden_dim]),tf.zeros([batch_size, self.hidden_dim]))"
      ]
    },
    {
      "cell_type": "code",
      "execution_count": 39,
      "metadata": {
        "id": "qSkwfRnSVFqb"
      },
      "outputs": [],
      "source": [
        "class Decoder(tf.keras.Model):\n",
        "  def __init__(self,vocab_size,embedding_dim,hidden_dim):\n",
        "    super(Decoder,self).__init__()\n",
        "    self.hidden_dim=hidden_dim\n",
        "    self.embedding=tf.keras.layers.Embedding(vocab_size,embedding_dim)\n",
        "    self.lstm=tf.keras.layers.LSTM(hidden_dim,return_sequences=True,return_state=True)\n",
        "    self.dense=tf.keras.layers.Dense(vocab_size)\n",
        "\n",
        "  def call(self,input_sequence,state_tuple):\n",
        "    embed=self.embedding(input_sequence)\n",
        "    lstm_out,state_h,state_c=self.lstm(embed, initial_state=state_tuple)\n",
        "    logits=self.dense(lstm_out)\n",
        "    return logits, state_h, state_c"
      ]
    },
    {
      "cell_type": "code",
      "execution_count": 40,
      "metadata": {
        "colab": {
          "base_uri": "https://localhost:8080/"
        },
        "id": "qgIm2gQhY03u",
        "outputId": "2eb87aaf-fdd2-4fd1-c2e9-848ea07557f1"
      },
      "outputs": [
        {
          "name": "stdout",
          "output_type": "stream",
          "text": [
            "Embedding dimension 128\n",
            "Hidden dimension 1024\n",
            "Batch Size 8\n"
          ]
        }
      ],
      "source": [
        "print(\"Embedding dimension \"+str(EMBEDDING_DIM))\n",
        "print(\"Hidden dimension \"+str(HIDDEN_DIM))\n",
        "print(\"Batch Size \"+str(BATCH_SIZE))"
      ]
    },
    {
      "cell_type": "code",
      "execution_count": 41,
      "metadata": {
        "colab": {
          "base_uri": "https://localhost:8080/"
        },
        "id": "L1npsOPqX-Fh",
        "outputId": "45298ae1-a3d8-4314-a336-8e7d072d3161"
      },
      "outputs": [
        {
          "data": {
            "text/plain": [
              "(<tf.Tensor: shape=(1, 8, 2824), dtype=float32, numpy=\n",
              " array([[[ 9.2315080e-05,  8.2776317e-04, -1.5103396e-03, ...,\n",
              "           3.4174835e-04, -4.4967886e-03, -4.2192920e-04],\n",
              "         [ 1.2263848e-03, -9.7028259e-04, -1.0620474e-03, ...,\n",
              "          -8.7562250e-05, -2.9944144e-03, -1.5900625e-03],\n",
              "         [ 1.6452132e-03, -2.1186019e-03, -8.1597478e-04, ...,\n",
              "           1.6904059e-03, -1.3592783e-03, -2.7263323e-03],\n",
              "         ...,\n",
              "         [ 1.4884277e-03,  2.2038845e-03, -4.2629568e-03, ...,\n",
              "           1.9867714e-03,  4.3509359e-04, -7.2634076e-03],\n",
              "         [ 5.0800183e-04,  4.1320738e-03, -5.0357073e-03, ...,\n",
              "           2.9886062e-03,  1.0172580e-03, -9.4689541e-03],\n",
              "         [-2.9061362e-04,  5.7774219e-03, -5.6430628e-03, ...,\n",
              "           3.9409446e-03,  1.3738361e-03, -1.1137882e-02]]], dtype=float32)>,\n",
              " <tf.Tensor: shape=(1, 1024), dtype=float32, numpy=\n",
              " array([[ 0.00317925, -0.00346166,  0.00850463, ..., -0.00272204,\n",
              "         -0.00107026, -0.00230592]], dtype=float32)>,\n",
              " <tf.Tensor: shape=(1, 1024), dtype=float32, numpy=\n",
              " array([[ 0.00639268, -0.00690431,  0.01698002, ..., -0.00544793,\n",
              "         -0.00214305, -0.00464994]], dtype=float32)>)"
            ]
          },
          "execution_count": 41,
          "metadata": {},
          "output_type": "execute_result"
        }
      ],
      "source": [
        "num_words_inputs = len(word2idx_inputs) + 1\n",
        "num_words_outputs = len(word2idx_outputs) + 1\n",
        "\n",
        "encoder=Encoder(num_words_inputs,EMBEDDING_DIM,HIDDEN_DIM)\n",
        "\n",
        "initial_states = encoder.init_states(1)\n",
        "\n",
        "test_encoder_output = encoder(tf.constant([[1, 23, 4, 5, 0, 0]]), initial_states) \n",
        "\n",
        "decoder=Decoder(num_words_outputs,EMBEDDING_DIM,HIDDEN_DIM)\n",
        "\n",
        "de_initial_state = test_encoder_output[1:]\n",
        "\n",
        "test_decoder_output= decoder(tf.constant([[1, 3, 5, 7, 9, 0, 0, 0]]), de_initial_state)\n",
        "\n",
        "test_decoder_output"
      ]
    },
    {
      "cell_type": "code",
      "execution_count": 42,
      "metadata": {
        "id": "yw4PBnJfnK0w"
      },
      "outputs": [],
      "source": [
        "def loss_func(targets,logits):\n",
        "  crossentropy=tf.keras.losses.SparseCategoricalCrossentropy(from_logits=True)\n",
        "  mask = tf.math.logical_not(tf.math.equal(targets, 0))\n",
        "  mask = tf.cast(mask, dtype=tf.int64) #Convert boolean to int\n",
        "  loss = crossentropy(targets, logits, sample_weight=mask)\n",
        "  return loss\n",
        "\n",
        "def accuracy_fn(y_true, y_pred):\n",
        "    pred_values = K.cast(K.argmax(y_pred, axis=-1), dtype='int32') \n",
        "    correct = K.cast(K.equal(y_true, pred_values), dtype='float32')\n",
        "\n",
        "\n",
        "    mask = K.cast(K.greater(y_true, 0), dtype='float32') \n",
        "    n_correct = K.sum(mask * correct) \n",
        "    n_total = K.sum(mask) \n",
        "\n",
        "    return n_correct / n_total\n"
      ]
    },
    {
      "cell_type": "code",
      "execution_count": 43,
      "metadata": {
        "id": "PaiIopOxsB14"
      },
      "outputs": [],
      "source": [
        "@tf.function\n",
        "\n",
        "def train_step(input_seq, target_seq_in, target_seq_out, en_initial_states, optimizer):\n",
        "    with tf.GradientTape() as tape:\n",
        "        en_outputs = encoder(input_seq, en_initial_states)\n",
        "        de_states = en_outputs[1:]\n",
        "        de_outputs = decoder(target_seq_in, de_states)\n",
        "        logits = de_outputs[0]\n",
        "        loss = loss_func(target_seq_out, logits)\n",
        "        acc = accuracy_fn(target_seq_out, logits)\n",
        "\n",
        "    variables = encoder.trainable_variables + decoder.trainable_variables\n",
        "    gradients = tape.gradient(loss, variables)\n",
        "    optimizer.apply_gradients(zip(gradients, variables))\n",
        "\n",
        "    return loss, acc"
      ]
    },
    {
      "cell_type": "code",
      "execution_count": 44,
      "metadata": {
        "colab": {
          "base_uri": "https://localhost:8080/"
        },
        "id": "8WtnwAhxuwFW",
        "outputId": "4bc02752-2437-4fa0-c716-1bbf09dc25be"
      },
      "outputs": [
        {
          "data": {
            "text/plain": [
              "<TakeDataset shapes: ((8, 25), (8, 28), (8, 28)), types: (tf.int32, tf.int32, tf.int32)>"
            ]
          },
          "execution_count": 44,
          "metadata": {},
          "output_type": "execute_result"
        }
      ],
      "source": [
        "dataset.take(-1)"
      ]
    },
    {
      "cell_type": "code",
      "execution_count": 45,
      "metadata": {
        "id": "7hFQbHmAt-6T"
      },
      "outputs": [],
      "source": [
        "def main_train(encoder, decoder, dataset, n_epochs, batch_size, optimizer, checkpoint, checkpoint_prefix):\n",
        "    losses = []\n",
        "    accuracies = []\n",
        "\n",
        "    for e in range(n_epochs):\n",
        "        start = time.time()\n",
        "        en_initial_states = encoder.init_states(batch_size)\n",
        "        for batch, (input_seq, target_seq_in, target_seq_out) in enumerate(dataset.take(-1)):\n",
        "            loss, accuracy = train_step(input_seq, target_seq_in, target_seq_out, en_initial_states, optimizer)\n",
        "        \n",
        "            if batch % 100 == 0:\n",
        "                losses.append(loss)\n",
        "                accuracies.append(accuracy)\n",
        "                print('Epoch {} Batch {} Loss {:.4f} Acc:{:.4f}'.format(e + 1, batch, loss.numpy(), accuracy.numpy()))\n",
        "        if (e + 1) % 2 == 0:\n",
        "            checkpoint.save(file_prefix = checkpoint_prefix)\n",
        "    \n",
        "        print('Time taken for 1 epoch {:.4f} sec\\n'.format(time.time() - start))\n",
        "        \n",
        "    return losses, accuracies"
      ]
    },
    {
      "cell_type": "code",
      "execution_count": 46,
      "metadata": {
        "colab": {
          "base_uri": "https://localhost:8080/"
        },
        "id": "0Dm9ckXrwfeh",
        "outputId": "94d74b6f-1e60-48d9-d8c0-994c91e0c67b"
      },
      "outputs": [
        {
          "name": "stdout",
          "output_type": "stream",
          "text": [
            "Epoch 1 Batch 0 Loss 2.1993 Acc:0.0000\n",
            "Epoch 1 Batch 100 Loss 2.1483 Acc:0.1519\n",
            "Epoch 1 Batch 200 Loss 1.4734 Acc:0.1379\n",
            "Epoch 1 Batch 300 Loss 1.3007 Acc:0.1667\n",
            "Time taken for 1 epoch 53.4832 sec\n",
            "\n",
            "Epoch 2 Batch 0 Loss 1.2978 Acc:0.2222\n",
            "Epoch 2 Batch 100 Loss 1.2065 Acc:0.2264\n",
            "Epoch 2 Batch 200 Loss 1.1391 Acc:0.2456\n",
            "Epoch 2 Batch 300 Loss 1.6162 Acc:0.2297\n",
            "Time taken for 1 epoch 51.6168 sec\n",
            "\n",
            "Epoch 3 Batch 0 Loss 1.3839 Acc:0.2361\n",
            "Epoch 3 Batch 100 Loss 1.2399 Acc:0.2639\n",
            "Epoch 3 Batch 200 Loss 1.1314 Acc:0.2500\n",
            "Epoch 3 Batch 300 Loss 1.1556 Acc:0.3175\n",
            "Time taken for 1 epoch 49.9654 sec\n",
            "\n",
            "Epoch 4 Batch 0 Loss 0.8904 Acc:0.3750\n",
            "Epoch 4 Batch 100 Loss 1.0086 Acc:0.3115\n",
            "Epoch 4 Batch 200 Loss 1.0696 Acc:0.3016\n",
            "Epoch 4 Batch 300 Loss 1.0648 Acc:0.2545\n",
            "Time taken for 1 epoch 51.7049 sec\n",
            "\n",
            "Epoch 5 Batch 0 Loss 1.0596 Acc:0.2941\n",
            "Epoch 5 Batch 100 Loss 0.8958 Acc:0.3750\n",
            "Epoch 5 Batch 200 Loss 1.3016 Acc:0.2785\n",
            "Epoch 5 Batch 300 Loss 1.0973 Acc:0.2769\n",
            "Time taken for 1 epoch 49.8239 sec\n",
            "\n",
            "Epoch 6 Batch 0 Loss 0.7056 Acc:0.5000\n",
            "Epoch 6 Batch 100 Loss 0.7184 Acc:0.4483\n",
            "Epoch 6 Batch 200 Loss 0.8659 Acc:0.3731\n",
            "Epoch 6 Batch 300 Loss 0.7073 Acc:0.4138\n",
            "Time taken for 1 epoch 51.6503 sec\n",
            "\n",
            "Epoch 7 Batch 0 Loss 0.6234 Acc:0.5902\n",
            "Epoch 7 Batch 100 Loss 0.7191 Acc:0.4697\n",
            "Epoch 7 Batch 200 Loss 0.7053 Acc:0.5278\n",
            "Epoch 7 Batch 300 Loss 0.8094 Acc:0.4865\n",
            "Time taken for 1 epoch 49.7695 sec\n",
            "\n",
            "Epoch 8 Batch 0 Loss 0.5507 Acc:0.5333\n",
            "Epoch 8 Batch 100 Loss 0.5081 Acc:0.6364\n",
            "Epoch 8 Batch 200 Loss 0.6105 Acc:0.5455\n",
            "Epoch 8 Batch 300 Loss 0.5277 Acc:0.6462\n",
            "Time taken for 1 epoch 51.7141 sec\n",
            "\n",
            "Epoch 9 Batch 0 Loss 0.4664 Acc:0.6667\n",
            "Epoch 9 Batch 100 Loss 0.5045 Acc:0.5882\n",
            "Epoch 9 Batch 200 Loss 0.4890 Acc:0.6324\n",
            "Epoch 9 Batch 300 Loss 0.4712 Acc:0.6721\n",
            "Time taken for 1 epoch 49.9997 sec\n",
            "\n",
            "Epoch 10 Batch 0 Loss 0.4031 Acc:0.7042\n",
            "Epoch 10 Batch 100 Loss 0.4059 Acc:0.6885\n",
            "Epoch 10 Batch 200 Loss 0.4656 Acc:0.7179\n",
            "Epoch 10 Batch 300 Loss 0.4613 Acc:0.6349\n",
            "Time taken for 1 epoch 52.3027 sec\n",
            "\n",
            "Epoch 11 Batch 0 Loss 0.3982 Acc:0.6500\n",
            "Epoch 11 Batch 100 Loss 0.4136 Acc:0.7143\n",
            "Epoch 11 Batch 200 Loss 0.3868 Acc:0.6207\n",
            "Epoch 11 Batch 300 Loss 0.4568 Acc:0.5769\n",
            "Time taken for 1 epoch 50.0211 sec\n",
            "\n",
            "Epoch 12 Batch 0 Loss 0.4086 Acc:0.7391\n",
            "Epoch 12 Batch 100 Loss 0.4375 Acc:0.7222\n",
            "Epoch 12 Batch 200 Loss 0.4532 Acc:0.6909\n",
            "Epoch 12 Batch 300 Loss 0.4294 Acc:0.6721\n",
            "Time taken for 1 epoch 52.3689 sec\n",
            "\n",
            "Epoch 13 Batch 0 Loss 0.3506 Acc:0.6949\n",
            "Epoch 13 Batch 100 Loss 0.3576 Acc:0.7647\n",
            "Epoch 13 Batch 200 Loss 0.3362 Acc:0.7500\n",
            "Epoch 13 Batch 300 Loss 0.3556 Acc:0.7460\n",
            "Time taken for 1 epoch 50.1060 sec\n",
            "\n",
            "Epoch 14 Batch 0 Loss 0.3138 Acc:0.7667\n",
            "Epoch 14 Batch 100 Loss 0.3500 Acc:0.7705\n",
            "Epoch 14 Batch 200 Loss 0.3200 Acc:0.6875\n",
            "Epoch 14 Batch 300 Loss 0.3226 Acc:0.7000\n",
            "Time taken for 1 epoch 52.1505 sec\n",
            "\n",
            "Epoch 15 Batch 0 Loss 0.2978 Acc:0.7333\n",
            "Epoch 15 Batch 100 Loss 0.3266 Acc:0.6786\n",
            "Epoch 15 Batch 200 Loss 0.2998 Acc:0.7463\n",
            "Epoch 15 Batch 300 Loss 0.3376 Acc:0.7667\n",
            "Time taken for 1 epoch 49.6879 sec\n",
            "\n",
            "Epoch 16 Batch 0 Loss 0.2794 Acc:0.8154\n",
            "Epoch 16 Batch 100 Loss 0.2939 Acc:0.8000\n",
            "Epoch 16 Batch 200 Loss 0.3391 Acc:0.7500\n",
            "Epoch 16 Batch 300 Loss 0.3633 Acc:0.6721\n",
            "Time taken for 1 epoch 51.4260 sec\n",
            "\n",
            "Epoch 17 Batch 0 Loss 0.2532 Acc:0.8116\n",
            "Epoch 17 Batch 100 Loss 0.2916 Acc:0.7458\n",
            "Epoch 17 Batch 200 Loss 0.2860 Acc:0.8281\n",
            "Epoch 17 Batch 300 Loss 0.3129 Acc:0.7541\n",
            "Time taken for 1 epoch 50.0817 sec\n",
            "\n",
            "Epoch 18 Batch 0 Loss 0.2875 Acc:0.7460\n",
            "Epoch 18 Batch 100 Loss 0.2742 Acc:0.7937\n",
            "Epoch 18 Batch 200 Loss 0.2640 Acc:0.8056\n",
            "Epoch 18 Batch 300 Loss 0.2891 Acc:0.7547\n",
            "Time taken for 1 epoch 52.2087 sec\n",
            "\n",
            "Epoch 19 Batch 0 Loss 0.2199 Acc:0.7544\n",
            "Epoch 19 Batch 100 Loss 0.2309 Acc:0.7797\n",
            "Epoch 19 Batch 200 Loss 0.2821 Acc:0.7344\n",
            "Epoch 19 Batch 300 Loss 0.2850 Acc:0.7333\n",
            "Time taken for 1 epoch 49.9885 sec\n",
            "\n",
            "Epoch 20 Batch 0 Loss 0.2477 Acc:0.8400\n",
            "Epoch 20 Batch 100 Loss 0.2792 Acc:0.8235\n",
            "Epoch 20 Batch 200 Loss 0.2344 Acc:0.8226\n",
            "Epoch 20 Batch 300 Loss 0.2386 Acc:0.8308\n",
            "Time taken for 1 epoch 51.7058 sec\n",
            "\n"
          ]
        }
      ],
      "source": [
        "optimizer = tf.keras.optimizers.Adam(clipnorm=5.0)\n",
        "checkpoint_dir = './training_ckpt_seq2seq'\n",
        "checkpoint_prefix = os.path.join(checkpoint_dir, \"ckpt\")\n",
        "checkpoint = tf.train.Checkpoint(optimizer=optimizer,\n",
        "                                 encoder=encoder,\n",
        "                                 decoder=decoder)\n",
        "losses, accuracies = main_train(encoder, decoder, dataset, EPOCHS, BATCH_SIZE, optimizer, checkpoint, checkpoint_prefix)"
      ]
    },
    {
      "cell_type": "code",
      "execution_count": 47,
      "metadata": {
        "colab": {
          "base_uri": "https://localhost:8080/",
          "height": 336
        },
        "id": "RSi9wczP2MOT",
        "outputId": "b1a6e76a-9ecd-407c-9381-056884bd700f"
      },
      "outputs": [
        {
          "data": {
            "image/png": "[encoded data removed]",
            "text/plain": [
              "<Figure size 1080x360 with 2 Axes>"
            ]
          },
          "metadata": {
            "needs_background": "light"
          },
          "output_type": "display_data"
        }
      ],
      "source": [
        "fig, (ax1, ax2) = plt.subplots(1, 2, figsize=(15,5))\n",
        "# plot some data\n",
        "ax1.plot(losses, label='loss')\n",
        "#plt.plot(results.history['val_loss'], label='val_loss')\n",
        "ax1.set_title('Training Loss')\n",
        "ax1.legend()\n",
        "# accuracies\n",
        "ax2.plot(accuracies, label='acc')\n",
        "#plt.plot(results.history['val_accuracy_fn'], label='val_acc')\n",
        "ax2.set_title('Training Accuracy')\n",
        "ax2.legend()\n",
        "plt.show()"
      ]
    },
    {
      "cell_type": "code",
      "execution_count": null,
      "metadata": {},
      "outputs": [],
      "source": []
    }
  ],
  "metadata": {
    "accelerator": "GPU",
    "colab": {
      "authorship_tag": "ABX9TyM4qTIQ1iggKyGCKa9DDf9w",
      "collapsed_sections": [],
      "name": "Intro-seq2seq-Encoder-Decoder-ENG-SPA-translator-tf2.ipynb",
      "provenance": []
    },
    "kernelspec": {
      "display_name": "Python 3",
      "name": "python3"
    },
    "language_info": {
      "codemirror_mode": {
        "name": "ipython",
        "version": 3
      },
      "file_extension": ".py",
      "mimetype": "text/x-python",
      "name": "python",
      "nbconvert_exporter": "python",
      "pygments_lexer": "ipython3",
      "version": "3.9.5"
    }
  },
  "nbformat": 4,
  "nbformat_minor": 0
}
